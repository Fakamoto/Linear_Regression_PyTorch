{
 "cells": [
  {
   "cell_type": "code",
   "execution_count": 1,
   "metadata": {
    "id": "OrjNF9kE8sdf"
   },
   "outputs": [],
   "source": [
    "import numpy as np\n",
    "import torch"
   ]
  },
  {
   "cell_type": "code",
   "execution_count": 2,
   "metadata": {
    "id": "VGW-1NdJVlIx"
   },
   "outputs": [],
   "source": [
    "# Input (temp, rainfall, humidity)\n",
    "inputs = np.array([[73, 67, 43], \n",
    "                   [91, 88, 64], \n",
    "                   [87, 134, 58], \n",
    "                   [102, 43, 37], \n",
    "                   [69, 96, 70], \n",
    "                   [74, 66, 43], \n",
    "                   [91, 87, 65], \n",
    "                   [88, 134, 59], \n",
    "                   [101, 44, 37], \n",
    "                   [68, 96, 71], \n",
    "                   [73, 66, 44], \n",
    "                   [92, 87, 64], \n",
    "                   [87, 135, 57], \n",
    "                   [103, 43, 36], \n",
    "                   [68, 97, 70]], \n",
    "                  dtype='float32')\n",
    "\n",
    "# Targets (apples, oranges)\n",
    "targets = np.array([[56, 70], \n",
    "                    [81, 101], \n",
    "                    [119, 133], \n",
    "                    [22, 37], \n",
    "                    [103, 119],\n",
    "                    [57, 69], \n",
    "                    [80, 102], \n",
    "                    [118, 132], \n",
    "                    [21, 38], \n",
    "                    [104, 118], \n",
    "                    [57, 69], \n",
    "                    [82, 100], \n",
    "                    [118, 134], \n",
    "                    [20, 38], \n",
    "                    [102, 120]], \n",
    "                   dtype='float32')\n",
    "\n",
    "inputs = torch.from_numpy(inputs)\n",
    "targets = torch.from_numpy(targets)"
   ]
  },
  {
   "cell_type": "code",
   "execution_count": 3,
   "metadata": {
    "colab": {
     "base_uri": "https://localhost:8080/"
    },
    "id": "OsviyDF4WVIb",
    "outputId": "b154475c-5ae2-4557-c8c2-753b1071cceb",
    "scrolled": true
   },
   "outputs": [
    {
     "data": {
      "text/plain": [
       "[Parameter containing:\n",
       " tensor([[0.1829, 0.4536, 0.2487],\n",
       "         [0.2005, 0.4834, 0.1289]], requires_grad=True),\n",
       " Parameter containing:\n",
       " tensor([0.2375, 0.3030], requires_grad=True)]"
      ]
     },
     "execution_count": 3,
     "metadata": {},
     "output_type": "execute_result"
    }
   ],
   "source": [
    "# Define model\n",
    "model = torch.nn.Linear(3, 2)\n",
    "model.weight.data = torch.abs(model.weight.data)\n",
    "model.bias.data = torch.abs(model.bias.data)\n",
    "list(model.parameters())"
   ]
  },
  {
   "cell_type": "code",
   "execution_count": 4,
   "metadata": {
    "id": "16Avraz9V36i"
   },
   "outputs": [],
   "source": [
    "train_ds = torch.utils.data.TensorDataset(inputs, targets)"
   ]
  },
  {
   "cell_type": "code",
   "execution_count": 5,
   "metadata": {
    "id": "CdXnQxRLWBh4"
   },
   "outputs": [],
   "source": [
    "train_dl = torch.utils.data.DataLoader(train_ds, 5, shuffle=False)"
   ]
  },
  {
   "cell_type": "code",
   "execution_count": 6,
   "metadata": {
    "id": "fnCJkIFIXVvU"
   },
   "outputs": [],
   "source": [
    "# Define optimizer\n",
    "opt = torch.optim.SGD(model.parameters(), lr=1e-5)"
   ]
  },
  {
   "cell_type": "code",
   "execution_count": 7,
   "metadata": {},
   "outputs": [
    {
     "name": "stdout",
     "output_type": "stream",
     "text": [
      "tensor(799.2987, grad_fn=<MseLossBackward>)\n"
     ]
    }
   ],
   "source": [
    "# Define loss function\n",
    "loss_fn = torch.nn.functional.mse_loss\n",
    "loss = loss_fn(model(inputs), targets)\n",
    "loss.backward()\n",
    "opt.step()\n",
    "opt.zero_grad()\n",
    "print(loss)"
   ]
  },
  {
   "cell_type": "code",
   "execution_count": 8,
   "metadata": {},
   "outputs": [
    {
     "data": {
      "text/plain": [
       "tensor(642.8423, grad_fn=<MseLossBackward>)"
      ]
     },
     "execution_count": 8,
     "metadata": {},
     "output_type": "execute_result"
    }
   ],
   "source": [
    "pred = model(inputs)\n",
    "            \n",
    "# 2. Calculate loss\n",
    "loss = loss_fn(pred, targets)\n",
    "loss\n"
   ]
  },
  {
   "cell_type": "code",
   "execution_count": 9,
   "metadata": {
    "id": "DttN28iFXltp"
   },
   "outputs": [],
   "source": [
    "# Utility function to train the model\n",
    "def fit(num_epochs, model, loss_fn, opt, train_dl):\n",
    "    \n",
    "    # Repeat for given number of epochs\n",
    "    for epoch in range(num_epochs):\n",
    "        \n",
    "        # Train with batches of data\n",
    "        for xb,yb in train_dl:\n",
    "            \n",
    "            # 1. Generate predictions\n",
    "            pred = model(xb)\n",
    "            \n",
    "            # 2. Calculate loss\n",
    "            loss = loss_fn(pred, yb)\n",
    "            \n",
    "            # 3. Compute gradients\n",
    "            loss.backward()\n",
    "            \n",
    "            # 4. Update parameters using gradients\n",
    "            opt.step()\n",
    "            \n",
    "            # 5. Reset the gradients to zero\n",
    "            opt.zero_grad()\n",
    "        \n",
    "        # Print the progress\n",
    "        if (epoch+1) % 10 == 0:\n",
    "            print(f'Epoch [{epoch+1}/{num_epochs}], Loss: {loss.item()}')\n",
    "      \n",
    "    return torch.sqrt(loss)"
   ]
  },
  {
   "cell_type": "code",
   "execution_count": 10,
   "metadata": {},
   "outputs": [
    {
     "name": "stdout",
     "output_type": "stream",
     "text": [
      "tensor(25.3543, grad_fn=<SqrtBackward>)\n",
      "Epoch [10/1000], Loss: 233.6105194091797\n",
      "Epoch [20/1000], Loss: 165.03628540039062\n",
      "Epoch [30/1000], Loss: 118.16915130615234\n",
      "Epoch [40/1000], Loss: 86.05180358886719\n",
      "Epoch [50/1000], Loss: 63.9661865234375\n",
      "Epoch [60/1000], Loss: 48.704811096191406\n",
      "Epoch [70/1000], Loss: 38.08769989013672\n",
      "Epoch [80/1000], Loss: 30.633386611938477\n",
      "Epoch [90/1000], Loss: 25.335586547851562\n",
      "Epoch [100/1000], Loss: 21.51076889038086\n",
      "Epoch [110/1000], Loss: 18.694814682006836\n",
      "Epoch [120/1000], Loss: 16.57268714904785\n",
      "Epoch [130/1000], Loss: 14.930500984191895\n",
      "Epoch [140/1000], Loss: 13.622955322265625\n",
      "Epoch [150/1000], Loss: 12.551454544067383\n",
      "Epoch [160/1000], Loss: 11.6488618850708\n",
      "Epoch [170/1000], Loss: 10.869513511657715\n",
      "Epoch [180/1000], Loss: 10.182209968566895\n",
      "Epoch [190/1000], Loss: 9.565546035766602\n",
      "Epoch [200/1000], Loss: 9.004712104797363\n",
      "Epoch [210/1000], Loss: 8.489391326904297\n",
      "Epoch [220/1000], Loss: 8.012310981750488\n",
      "Epoch [230/1000], Loss: 7.568224906921387\n",
      "Epoch [240/1000], Loss: 7.153284549713135\n",
      "Epoch [250/1000], Loss: 6.764503479003906\n",
      "Epoch [260/1000], Loss: 6.3996686935424805\n",
      "Epoch [270/1000], Loss: 6.056905746459961\n",
      "Epoch [280/1000], Loss: 5.734635829925537\n",
      "Epoch [290/1000], Loss: 5.43155574798584\n",
      "Epoch [300/1000], Loss: 5.146482944488525\n",
      "Epoch [310/1000], Loss: 4.878335475921631\n",
      "Epoch [320/1000], Loss: 4.6261677742004395\n",
      "Epoch [330/1000], Loss: 4.389052391052246\n",
      "Epoch [340/1000], Loss: 4.166121959686279\n",
      "Epoch [350/1000], Loss: 3.9565958976745605\n",
      "Epoch [360/1000], Loss: 3.759705066680908\n",
      "Epoch [370/1000], Loss: 3.574746608734131\n",
      "Epoch [380/1000], Loss: 3.401031970977783\n",
      "Epoch [390/1000], Loss: 3.237950563430786\n",
      "Epoch [400/1000], Loss: 3.084847927093506\n",
      "Epoch [410/1000], Loss: 2.9411919116973877\n",
      "Epoch [420/1000], Loss: 2.8064112663269043\n",
      "Epoch [430/1000], Loss: 2.68001389503479\n",
      "Epoch [440/1000], Loss: 2.5614686012268066\n",
      "Epoch [450/1000], Loss: 2.450350761413574\n",
      "Epoch [460/1000], Loss: 2.34621262550354\n",
      "Epoch [470/1000], Loss: 2.248634099960327\n",
      "Epoch [480/1000], Loss: 2.1572468280792236\n",
      "Epoch [490/1000], Loss: 2.0716652870178223\n",
      "Epoch [500/1000], Loss: 1.9915435314178467\n",
      "Epoch [510/1000], Loss: 1.9165664911270142\n",
      "Epoch [520/1000], Loss: 1.8464088439941406\n",
      "Epoch [530/1000], Loss: 1.7808021306991577\n",
      "Epoch [540/1000], Loss: 1.71945321559906\n",
      "Epoch [550/1000], Loss: 1.662109375\n",
      "Epoch [560/1000], Loss: 1.6085302829742432\n",
      "Epoch [570/1000], Loss: 1.5584967136383057\n",
      "Epoch [580/1000], Loss: 1.5117571353912354\n",
      "Epoch [590/1000], Loss: 1.4681408405303955\n",
      "Epoch [600/1000], Loss: 1.4274544715881348\n",
      "Epoch [610/1000], Loss: 1.3895150423049927\n",
      "Epoch [620/1000], Loss: 1.354131817817688\n",
      "Epoch [630/1000], Loss: 1.3211899995803833\n",
      "Epoch [640/1000], Loss: 1.2905077934265137\n",
      "Epoch [650/1000], Loss: 1.2619383335113525\n",
      "Epoch [660/1000], Loss: 1.2353694438934326\n",
      "Epoch [670/1000], Loss: 1.2106720209121704\n",
      "Epoch [680/1000], Loss: 1.1877245903015137\n",
      "Epoch [690/1000], Loss: 1.166419506072998\n",
      "Epoch [700/1000], Loss: 1.146643042564392\n",
      "Epoch [710/1000], Loss: 1.128309965133667\n",
      "Epoch [720/1000], Loss: 1.111335039138794\n",
      "Epoch [730/1000], Loss: 1.09561026096344\n",
      "Epoch [740/1000], Loss: 1.0810701847076416\n",
      "Epoch [750/1000], Loss: 1.0676324367523193\n",
      "Epoch [760/1000], Loss: 1.0552324056625366\n",
      "Epoch [770/1000], Loss: 1.0437997579574585\n",
      "Epoch [780/1000], Loss: 1.0332783460617065\n",
      "Epoch [790/1000], Loss: 1.0235885381698608\n",
      "Epoch [800/1000], Loss: 1.014695167541504\n",
      "Epoch [810/1000], Loss: 1.0065361261367798\n",
      "Epoch [820/1000], Loss: 0.9990649223327637\n",
      "Epoch [830/1000], Loss: 0.9922358393669128\n",
      "Epoch [840/1000], Loss: 0.9860070943832397\n",
      "Epoch [850/1000], Loss: 0.9803382754325867\n",
      "Epoch [860/1000], Loss: 0.9751921892166138\n",
      "Epoch [870/1000], Loss: 0.9705289006233215\n",
      "Epoch [880/1000], Loss: 0.966316819190979\n",
      "Epoch [890/1000], Loss: 0.9625190496444702\n",
      "Epoch [900/1000], Loss: 0.959122359752655\n",
      "Epoch [910/1000], Loss: 0.9560893177986145\n",
      "Epoch [920/1000], Loss: 0.9533852338790894\n",
      "Epoch [930/1000], Loss: 0.9510003328323364\n",
      "Epoch [940/1000], Loss: 0.9489020109176636\n",
      "Epoch [950/1000], Loss: 0.9470771551132202\n",
      "Epoch [960/1000], Loss: 0.9454978108406067\n",
      "Epoch [970/1000], Loss: 0.9441582560539246\n",
      "Epoch [980/1000], Loss: 0.9430274963378906\n",
      "Epoch [990/1000], Loss: 0.9421008229255676\n",
      "Epoch [1000/1000], Loss: 0.9413468241691589\n",
      "tensor(1.0604, grad_fn=<SqrtBackward>)\n"
     ]
    }
   ],
   "source": [
    "print(torch.sqrt(torch.nn.functional.mse_loss(model(inputs), targets)))\n",
    "fit(1000, model, loss_fn, opt, train_dl)\n",
    "print(torch.sqrt(torch.nn.functional.mse_loss(model(inputs), targets)))"
   ]
  },
  {
   "cell_type": "code",
   "execution_count": 11,
   "metadata": {
    "colab": {
     "base_uri": "https://localhost:8080/"
    },
    "id": "_UY9ekLoaqnF",
    "outputId": "2fa12a8a-82cf-4610-9335-9b7e84a83ddc"
   },
   "outputs": [
    {
     "data": {
      "text/plain": [
       "tensor([[ 56.9973,  70.5008],\n",
       "        [ 81.8621, 100.3011],\n",
       "        [118.4549, 133.3354],\n",
       "        [ 20.8797,  37.9084],\n",
       "        [101.5785, 118.0455],\n",
       "        [ 55.7461,  69.4149],\n",
       "        [ 81.6925, 100.3504],\n",
       "        [118.7324, 133.9092],\n",
       "        [ 22.1309,  38.9943],\n",
       "        [102.6601, 119.1808],\n",
       "        [ 56.8277,  70.5501],\n",
       "        [ 80.6109,  99.2152],\n",
       "        [118.6246, 133.2861],\n",
       "        [ 19.7981,  36.7732],\n",
       "        [102.8298, 119.1314]], grad_fn=<AddmmBackward>)"
      ]
     },
     "execution_count": 11,
     "metadata": {},
     "output_type": "execute_result"
    }
   ],
   "source": [
    "# Generate predictions\n",
    "preds = model(inputs)\n",
    "preds"
   ]
  },
  {
   "cell_type": "code",
   "execution_count": 12,
   "metadata": {
    "colab": {
     "base_uri": "https://localhost:8080/"
    },
    "id": "1b4ZcrVva2DE",
    "outputId": "e9398d0d-9c67-42be-ebea-1fa0ce96e8f9"
   },
   "outputs": [
    {
     "data": {
      "text/plain": [
       "tensor([[ 56.,  70.],\n",
       "        [ 81., 101.],\n",
       "        [119., 133.],\n",
       "        [ 22.,  37.],\n",
       "        [103., 119.],\n",
       "        [ 57.,  69.],\n",
       "        [ 80., 102.],\n",
       "        [118., 132.],\n",
       "        [ 21.,  38.],\n",
       "        [104., 118.],\n",
       "        [ 57.,  69.],\n",
       "        [ 82., 100.],\n",
       "        [118., 134.],\n",
       "        [ 20.,  38.],\n",
       "        [102., 120.]])"
      ]
     },
     "execution_count": 12,
     "metadata": {},
     "output_type": "execute_result"
    }
   ],
   "source": [
    "# Compare with targets\n",
    "targets"
   ]
  },
  {
   "cell_type": "code",
   "execution_count": 13,
   "metadata": {},
   "outputs": [
    {
     "data": {
      "text/plain": [
       "tensor(1.0604, grad_fn=<SqrtBackward>)"
      ]
     },
     "execution_count": 13,
     "metadata": {},
     "output_type": "execute_result"
    }
   ],
   "source": [
    "torch.sqrt(torch.mean((preds - targets) * (preds - targets)))"
   ]
  }
 ],
 "metadata": {
  "colab": {
   "collapsed_sections": [],
   "name": "Linear Regresion PyTorch",
   "provenance": []
  },
  "kernelspec": {
   "display_name": "Python 3 (ipykernel)",
   "language": "python",
   "name": "python3"
  },
  "language_info": {
   "codemirror_mode": {
    "name": "ipython",
    "version": 3
   },
   "file_extension": ".py",
   "mimetype": "text/x-python",
   "name": "python",
   "nbconvert_exporter": "python",
   "pygments_lexer": "ipython3",
   "version": "3.8.10"
  }
 },
 "nbformat": 4,
 "nbformat_minor": 1
}
